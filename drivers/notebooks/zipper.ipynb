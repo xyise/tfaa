{
 "cells": [
  {
   "cell_type": "code",
   "execution_count": null,
   "metadata": {},
   "outputs": [],
   "source": [
    "from tfaa.data_process.db_upload_prepare import DbUploadPrepare"
   ]
  },
  {
   "cell_type": "code",
   "execution_count": null,
   "metadata": {},
   "outputs": [],
   "source": [
    "import itertools\n",
    "from typing import List\n",
    "import zipfile\n",
    "import json\n",
    "from pydantic import BaseModel\n",
    "#from pydantic_mongo import AbstractRepository, ObjectIdField\n",
    "from pymongo import MongoClient\n",
    "from bson import ObjectId"
   ]
  },
  {
   "cell_type": "code",
   "execution_count": null,
   "metadata": {},
   "outputs": [],
   "source": [
    "file_name = r'/home/youngsuklee/data/deribit_trade/deribit_trade_202303_partial/202303/20230301000000-20230301010000_BTC_future.zip'"
   ]
  },
  {
   "cell_type": "code",
   "execution_count": null,
   "metadata": {},
   "outputs": [],
   "source": [
    "with zipfile.ZipFile(file_name, 'r') as zip_file:\n",
    "    print(zip_file.namelist())\n",
    "    x = zip_file.read('data.json')"
   ]
  },
  {
   "cell_type": "code",
   "execution_count": null,
   "metadata": {},
   "outputs": [],
   "source": [
    "class TradeInstance(BaseModel):\n",
    "    trade_seq: int\n",
    "    trade_id: str \n",
    "    timestamp: int\n",
    "    tick_direction: int\n",
    "    price: float\n",
    "    mark_price: float\n",
    "    instrument_name: str\n",
    "    index_price: float\n",
    "    direction: str\n",
    "    amount: float\n",
    "    \n",
    "class TradeQueryResult(BaseModel):\n",
    "    trades: List[TradeInstance]\n",
    "    has_more: bool\n",
    "\n",
    "class TradeQueryResponse(BaseModel):\n",
    "    jsonrpc: str\n",
    "    id: int\n",
    "    result: TradeQueryResult\n",
    "    usIn: int\n",
    "    usOut: int\n",
    "    usDiff: int\n",
    "    testnet: bool"
   ]
  },
  {
   "cell_type": "code",
   "execution_count": null,
   "metadata": {},
   "outputs": [],
   "source": [
    "my_json = json.loads(x)\n",
    "my_response = TradeQueryResponse(**my_json[0])"
   ]
  },
  {
   "cell_type": "code",
   "execution_count": null,
   "metadata": {},
   "outputs": [],
   "source": [
    "client =MongoClient(host='mongodb://localhost', port=27017)"
   ]
  },
  {
   "cell_type": "code",
   "execution_count": null,
   "metadata": {},
   "outputs": [],
   "source": [
    "all_trades = list(itertools.chain.from_iterable(x['result']['trades'] for x in my_json))\n"
   ]
  },
  {
   "cell_type": "code",
   "execution_count": null,
   "metadata": {},
   "outputs": [],
   "source": [
    "all_trades_2 = all_trades"
   ]
  },
  {
   "cell_type": "code",
   "execution_count": null,
   "metadata": {},
   "outputs": [],
   "source": [
    "my_db_name = 'my_test_db'\n",
    "my_db = client[my_db_name]"
   ]
  },
  {
   "cell_type": "code",
   "execution_count": null,
   "metadata": {},
   "outputs": [],
   "source": [
    "my_col_name = 'my_col'\n",
    "my_col = my_db[my_col_name]"
   ]
  },
  {
   "cell_type": "code",
   "execution_count": null,
   "metadata": {},
   "outputs": [],
   "source": [
    "client =MongoClient(host='mongodb://localhost', port=27017)\n",
    "with client:\n",
    "    with client.start_session() as session:\n",
    "        with session.start_transaction():\n",
    "            collection = client[my_db_name][my_col_name]\n",
    "            collection.delete_many(all_trades, bypass_document_validation=True)\n",
    "            #collection.insert_one(all_trades[0], validate=True)\n",
    "        session.commit_transaction()\n",
    "        print('SUCCESS')\n",
    "#client.close()"
   ]
  },
  {
   "cell_type": "code",
   "execution_count": null,
   "metadata": {},
   "outputs": [],
   "source": [
    "all_trades_2[0]"
   ]
  },
  {
   "cell_type": "code",
   "execution_count": null,
   "metadata": {},
   "outputs": [],
   "source": [
    "all_trades_1[0]"
   ]
  },
  {
   "cell_type": "code",
   "execution_count": null,
   "metadata": {},
   "outputs": [],
   "source": [
    "all_trades[-1]"
   ]
  },
  {
   "cell_type": "code",
   "execution_count": null,
   "metadata": {},
   "outputs": [],
   "source": [
    "len(set([t['_id'] for t in all_trades]))"
   ]
  },
  {
   "cell_type": "code",
   "execution_count": null,
   "metadata": {},
   "outputs": [],
   "source": [
    "len(all_trades)"
   ]
  },
  {
   "cell_type": "code",
   "execution_count": null,
   "metadata": {},
   "outputs": [],
   "source": [
    "all_trades[0]"
   ]
  },
  {
   "cell_type": "code",
   "execution_count": null,
   "metadata": {},
   "outputs": [],
   "source": [
    "my_col.insert_many(all_trades)"
   ]
  },
  {
   "cell_type": "code",
   "execution_count": null,
   "metadata": {},
   "outputs": [],
   "source": [
    "all_trades[0]"
   ]
  },
  {
   "cell_type": "code",
   "execution_count": null,
   "metadata": {},
   "outputs": [],
   "source": [
    "all_trades[0]"
   ]
  },
  {
   "cell_type": "code",
   "execution_count": null,
   "metadata": {},
   "outputs": [],
   "source": [
    "ObjectId(json.dumps(all_trades[0]).encode('utf-8'))"
   ]
  },
  {
   "cell_type": "code",
   "execution_count": null,
   "metadata": {},
   "outputs": [],
   "source": [
    "my_col.insert_one(my_json[0]['result']['trades'][1])"
   ]
  },
  {
   "cell_type": "code",
   "execution_count": null,
   "metadata": {},
   "outputs": [],
   "source": [
    "my_col.insert_many(my_json[0]['result']['trades'])"
   ]
  },
  {
   "cell_type": "code",
   "execution_count": null,
   "metadata": {},
   "outputs": [],
   "source": [
    "my_json[0]['result']"
   ]
  },
  {
   "cell_type": "code",
   "execution_count": null,
   "metadata": {},
   "outputs": [],
   "source": []
  }
 ],
 "metadata": {
  "kernelspec": {
   "display_name": ".venv",
   "language": "python",
   "name": "python3"
  },
  "language_info": {
   "codemirror_mode": {
    "name": "ipython",
    "version": 3
   },
   "file_extension": ".py",
   "mimetype": "text/x-python",
   "name": "python",
   "nbconvert_exporter": "python",
   "pygments_lexer": "ipython3",
   "version": "3.9.16"
  }
 },
 "nbformat": 4,
 "nbformat_minor": 2
}
